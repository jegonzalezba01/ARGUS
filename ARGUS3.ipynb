{
 "cells": [
  {
   "cell_type": "code",
   "execution_count": null,
   "id": "d284e6d1",
   "metadata": {},
   "outputs": [],
   "source": [
    "# Librerias\n",
    "import rasterio\n",
    "import geopandas as gpd\n",
    "import numpy as np\n",
    "from rasterio.mask import mask\n",
    "from shapely.geometry import box\n",
    "from joblib import load\n",
    "from rasterio.features import shapes\n",
    "from shapely.geometry import shape"
   ]
  },
  {
   "cell_type": "code",
   "execution_count": null,
   "id": "afddb116",
   "metadata": {},
   "outputs": [],
   "source": [
    "# === Cargar modelo ===\n",
    "clf = load(fr\"{modelo}.joblib\")\n",
    "\n",
    "\n",
    "# === Cargar imagen a clasificar ===\n",
    "img_path = \"L15-0585E-1041N_clip_7.tif\"\n",
    "with rasterio.open(img_path) as src:\n",
    "    image = src.read()  # (bands, height, width)\n",
    "    profile = src.profile\n",
    "    transform = src.transform\n",
    "    crs = src.crs\n",
    "\n",
    "# Reorganizar\n",
    "bands, height, width = image.shape\n",
    "X_pred = image.reshape(bands, -1).T  # (n_pixels, n_bandas)\n",
    "\n",
    "# Clasificar\n",
    "y_pred = clf.predict(X_pred)\n",
    "classification = y_pred.reshape((height, width))\n",
    "\n",
    "# Guardar raster clasificado\n",
    "nombredeclasificado='ClasificadoB'\n",
    "\n",
    "profile.update(dtype=rasterio.uint8, count=1)\n",
    "with rasterio.open(fr\"{nombredeclasificado}.tif\", \"w\", **profile) as dst:\n",
    "    dst.write(classification.astype(np.uint8), 1)\n",
    "\n",
    "print(fr\"Clasificación guardada como: {nombredeclasificado}\")\n",
    "\n",
    "# Crear máscara para clase 1\n",
    "mask = classification == 1\n",
    "\n",
    "# Extraer polígonos\n",
    "results = (\n",
    "    {\"properties\": {\"class\": 1}, \"geometry\": shape(s)}\n",
    "    for s, v in shapes(classification.astype(np.uint8), mask=mask, transform=transform)\n",
    ")\n",
    "\n",
    "# Crear GeoDataFrame\n",
    "gdf = gpd.GeoDataFrame.from_features(results, crs=crs)\n",
    "\n",
    "# (Opcional) filtrar por área mínima\n",
    "gdf_m = gdf.to_crs(epsg=3857)\n",
    "gdf_m[\"Área [Ha]\"] = gdf_m.area/10000\n",
    "gdf_filtered = gdf_m[gdf_m[\"Área [Ha]\"] >= 0.3].to_crs(crs)\n",
    "\n",
    "# Exportar shapefile\n",
    "\n",
    "gdf_filtered.to_file(fr\"Resultados/{nombredeclasificado}.shp\")\n",
    "\n",
    "print(fr\"Shapefile exportado como '{nombredeclasificado}.shp'\")\n"
   ]
  }
 ],
 "metadata": {
  "language_info": {
   "name": "python"
  }
 },
 "nbformat": 4,
 "nbformat_minor": 5
}
